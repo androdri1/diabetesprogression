{
 "cells": [
  {
   "cell_type": "markdown",
   "id": "33c8776e",
   "metadata": {},
   "source": [
    "# Este cuaderno realiza upsampling de las muestras de entrenamiento para ML"
   ]
  },
  {
   "cell_type": "code",
   "execution_count": 1,
   "id": "f65e4863",
   "metadata": {},
   "outputs": [
    {
     "name": "stdout",
     "output_type": "stream",
     "text": [
      "Directorio actual: C:\\Users\\juanm\\Dropbox\\JP_files\\UR\\Vías clinicas diabetes\n"
     ]
    }
   ],
   "source": [
    "## Liberías necesarias \n",
    "import os\n",
    "import re\n",
    "import socket \n",
    "import warnings\n",
    "import numpy as np\n",
    "import pandas as pd\n",
    "from imblearn.over_sampling import SMOTE, ADASYN\n",
    "\n",
    "## Configuración de rutas\n",
    "if socket.gethostname()=='SRVCBECO01':\n",
    "    os.chdir('D:\\shared_data\\Dropbox\\Vías clinicas diabetes')\n",
    "elif socket.gethostname() == 'HPJP2': \n",
    "    os.chdir(r'C:\\Users\\juanm\\Dropbox\\JP_files\\UR\\Vías clinicas diabetes')\n",
    "\n",
    "raw_path = 'Datos org\\\\csv_rutas\\\\'\n",
    "created_path = \"Datos creados\\\\\"\n",
    "temp_path = 'temporales\\\\'\n",
    "\n",
    "\n",
    "print('Directorio actual: '+ os.getcwd())"
   ]
  },
  {
   "cell_type": "markdown",
   "id": "4b3003d2",
   "metadata": {},
   "source": [
    "### Funciones para realizar el upsampling"
   ]
  },
  {
   "cell_type": "code",
   "execution_count": 2,
   "id": "714f1eec",
   "metadata": {},
   "outputs": [],
   "source": [
    "def db_upsample(tgt_cat, \n",
    "                vars_to_drop):\n",
    "    train_paths = os.listdir(created_path+\"ml_databases\\\\{}_cat\\\\train\\\\\".format(tgt_cat))\n",
    "    \n",
    "    for train_path in train_paths:\n",
    "        print('Upsampling {}'.format(train_path))\n",
    "        ## Cargando el archivo \n",
    "        data_mat = pd.read_csv(created_path+\"ml_databases\\\\{}_cat\\\\train\\\\{}\".format(tgt_cat, train_path))\n",
    "        org_len = len(data_mat)\n",
    "\n",
    "        data_mat.dropna(inplace = True)\n",
    "\n",
    "        if len(data_mat) != org_len:\n",
    "            print(\"{} observations lost due to missing values.\".format(org_len-len(data_mat)))\n",
    "\n",
    "        ## Segmentando entre variables exógenas y endógenas\n",
    "        exog_vars = data_mat.drop(vars_to_drop, axis = 1)\n",
    "        endog_vars = data_mat.loc[:, 'tgt_label']\n",
    "\n",
    "        ## Ejecutando el sobremuestro\n",
    "        X_resampled, y_resampled = SMOTE(random_state = 123).fit_resample(exog_vars,\n",
    "                                                                          endog_vars)\n",
    "\n",
    "        ## Exportando la base sobremuestreada\n",
    "        pd.concat([y_resampled,\n",
    "                   X_resampled],\n",
    "                  axis = 1).to_csv(temp_path+\"ml_dbs\\\\{}_cat\\\\train_ryr_upsampled\\\\upsampled_{}\".format(tgt_cat, train_path),\n",
    "                                   index = False)"
   ]
  },
  {
   "cell_type": "markdown",
   "id": "d28ffadf",
   "metadata": {},
   "source": [
    "### Realizando el upsampling"
   ]
  },
  {
   "cell_type": "code",
   "execution_count": 3,
   "id": "274f6c99",
   "metadata": {},
   "outputs": [
    {
     "name": "stdout",
     "output_type": "stream",
     "text": [
      "Upsampling train_db_1_years_base_1.csv\n",
      "Upsampling train_db_1_years_base_2.csv\n",
      "Upsampling train_db_1_years_base_3.csv\n",
      "Upsampling train_db_1_years_base_4.csv\n",
      "Upsampling train_db_2_years_base_1.csv\n",
      "Upsampling train_db_2_years_base_2.csv\n",
      "Upsampling train_db_2_years_base_3.csv\n",
      "Upsampling train_db_2_years_base_4.csv\n"
     ]
    }
   ],
   "source": [
    "## Parámetros estáticos\n",
    "vars_to_drop = ['KeyAnonimo', 'year', 'base_label', 'tgt_label']\n",
    "\n",
    "\n",
    "## Iterando entre las posibles cateogorizaciones de los outcomes\n",
    "for tgt_cat in range(4, 5):\n",
    "    db_upsample(tgt_cat = tgt_cat, \n",
    "               vars_to_drop = vars_to_drop)"
   ]
  },
  {
   "cell_type": "markdown",
   "id": "52e0f2d5",
   "metadata": {},
   "source": [
    "### Verificando el balance"
   ]
  },
  {
   "cell_type": "code",
   "execution_count": 4,
   "id": "ea14f3ea",
   "metadata": {},
   "outputs": [
    {
     "name": "stdout",
     "output_type": "stream",
     "text": [
      "0    3486\n",
      "1    3486\n",
      "Name: fuera_metas, dtype: int64\n",
      "1    2744\n",
      "0    2744\n",
      "Name: fuera_metas, dtype: int64\n",
      "0    4787\n",
      "1    4787\n",
      "Name: fuera_metas, dtype: int64\n",
      "1    4082\n",
      "0    4082\n",
      "Name: fuera_metas, dtype: int64\n",
      "0    2990\n",
      "1    2990\n",
      "Name: fuera_metas, dtype: int64\n",
      "1    2272\n",
      "0    2272\n",
      "Name: fuera_metas, dtype: int64\n",
      "0    1752\n",
      "1    1752\n",
      "Name: fuera_metas, dtype: int64\n",
      "1    1520\n",
      "0    1520\n",
      "Name: fuera_metas, dtype: int64\n"
     ]
    }
   ],
   "source": [
    "upsampled_paths = os.listdir(temp_path+\"ml_dbs\\\\{}_cat\\\\train_ryr_upsampled\\\\\".format(tgt_cat))\n",
    "for path in upsampled_paths:\n",
    "    print(pd.read_csv(temp_path+\"ml_dbs\\\\{}_cat\\\\train_ryr_upsampled\\\\{}\".format(tgt_cat, path)).loc[:, 'fuera_metas'].value_counts())"
   ]
  }
 ],
 "metadata": {
  "kernelspec": {
   "display_name": "Python 3 (ipykernel)",
   "language": "python",
   "name": "python3"
  },
  "language_info": {
   "codemirror_mode": {
    "name": "ipython",
    "version": 3
   },
   "file_extension": ".py",
   "mimetype": "text/x-python",
   "name": "python",
   "nbconvert_exporter": "python",
   "pygments_lexer": "ipython3",
   "version": "3.10.9"
  }
 },
 "nbformat": 4,
 "nbformat_minor": 5
}
